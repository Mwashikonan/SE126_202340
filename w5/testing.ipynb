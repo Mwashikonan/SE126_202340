{
 "cells": [
  {
   "cell_type": "code",
   "execution_count": 16,
   "id": "e52eddb6",
   "metadata": {},
   "outputs": [
    {
     "ename": "NameError",
     "evalue": "name 'candidates' is not defined",
     "output_type": "error",
     "traceback": [
      "\u001b[0;31m---------------------------------------------------------------------------\u001b[0m",
      "\u001b[0;31mNameError\u001b[0m                                 Traceback (most recent call last)",
      "Cell \u001b[0;32mIn[16], line 43\u001b[0m\n\u001b[1;32m     39\u001b[0m \u001b[38;5;66;03m#print(\"The total number of votes: \" + int())\u001b[39;00m\n\u001b[1;32m     41\u001b[0m \u001b[38;5;28;01mfor\u001b[39;00m index \u001b[38;5;129;01min\u001b[39;00m \u001b[38;5;28mrange\u001b[39m(\u001b[38;5;28mlen\u001b[39m(candidate)):\n\u001b[0;32m---> 43\u001b[0m     num_cans \u001b[38;5;241m=\u001b[39m candidates[index]\n\u001b[1;32m     45\u001b[0m \u001b[38;5;28mprint\u001b[39m(num_cans)\n\u001b[1;32m     47\u001b[0m \u001b[38;5;124;03m'''\u001b[39;00m\n\u001b[1;32m     48\u001b[0m \u001b[38;5;124;03m    if candidate[index] > max_votes:\u001b[39;00m\n\u001b[1;32m     49\u001b[0m \u001b[38;5;124;03m        \u001b[39;00m\n\u001b[0;32m   (...)\u001b[0m\n\u001b[1;32m     54\u001b[0m \n\u001b[1;32m     55\u001b[0m \u001b[38;5;124;03m'''\u001b[39;00m\n",
      "\u001b[0;31mNameError\u001b[0m: name 'candidates' is not defined"
     ]
    }
   ],
   "source": [
    "import csv\n",
    "\n",
    "num_record = 0\n",
    "num_cans = 0\n",
    "num_party = 0\n",
    "max_votes = 0\n",
    "num_state = 0\n",
    "votes = 0\n",
    "\n",
    "\n",
    "\n",
    "candidate = []\n",
    "party = []\n",
    "state = []\n",
    "\n",
    "\n",
    "    \n",
    "\n",
    "\n",
    "with open (\"Votes.csv\") as csvfile:\n",
    "    \n",
    "    file = csv.reader(csvfile)\n",
    "    \n",
    "    for record in file:\n",
    "        \n",
    "        candidate.append(record[0])\n",
    "        \n",
    "        party.append(record[1])\n",
    "        \n",
    "        state.append(record[2])\n",
    "        \n",
    "        num_record += 1\n",
    "\n",
    "        \n",
    "for index in range(0, num_record):\n",
    "    \n",
    "    num_record = votes + num_record\n",
    "\n",
    "#print(\"The total number of votes: \" + int())\n",
    "        \n",
    "for index in range(len(candidate)):\n",
    "    \n",
    "    num_cans = candidates[index]\n",
    "    \n",
    "print(num_cans)\n",
    "\n",
    "'''\n",
    "    if candidate[index] > max_votes:\n",
    "        \n",
    "        candidate = candidate[index]\n",
    "        \n",
    "\n",
    "print(candidate, max_votes)\n",
    "\n",
    "'''\n"
   ]
  },
  {
   "cell_type": "code",
   "execution_count": null,
   "id": "c78975fa",
   "metadata": {},
   "outputs": [],
   "source": []
  },
  {
   "cell_type": "code",
   "execution_count": null,
   "id": "afeb6cd4",
   "metadata": {},
   "outputs": [],
   "source": []
  },
  {
   "cell_type": "code",
   "execution_count": null,
   "id": "b466b5cd",
   "metadata": {},
   "outputs": [],
   "source": []
  },
  {
   "cell_type": "code",
   "execution_count": null,
   "id": "e45ccd2b",
   "metadata": {},
   "outputs": [],
   "source": []
  },
  {
   "cell_type": "code",
   "execution_count": null,
   "id": "c45db33a",
   "metadata": {},
   "outputs": [],
   "source": []
  },
  {
   "cell_type": "code",
   "execution_count": null,
   "id": "6a2c0cfa",
   "metadata": {},
   "outputs": [],
   "source": []
  },
  {
   "cell_type": "code",
   "execution_count": null,
   "id": "6d58073a",
   "metadata": {},
   "outputs": [],
   "source": []
  },
  {
   "cell_type": "code",
   "execution_count": null,
   "id": "3260e785",
   "metadata": {},
   "outputs": [],
   "source": []
  }
 ],
 "metadata": {
  "kernelspec": {
   "display_name": "Python 3 (ipykernel)",
   "language": "python",
   "name": "python3"
  },
  "language_info": {
   "codemirror_mode": {
    "name": "ipython",
    "version": 3
   },
   "file_extension": ".py",
   "mimetype": "text/x-python",
   "name": "python",
   "nbconvert_exporter": "python",
   "pygments_lexer": "ipython3",
   "version": "3.11.3"
  }
 },
 "nbformat": 4,
 "nbformat_minor": 5
}
