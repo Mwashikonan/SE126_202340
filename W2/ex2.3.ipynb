{
 "cells": [
  {
   "cell_type": "code",
   "execution_count": 2,
   "id": "9dff56d2",
   "metadata": {},
   "outputs": [
    {
     "name": "stdout",
     "output_type": "stream",
     "text": [
      "Total salary is $152000\n",
      "The average age is 20.25\n"
     ]
    }
   ],
   "source": [
    "import csv\n",
    "\n",
    "total_salary = 0\n",
    "num_records = 0\n",
    "average_age = 0\n",
    "sum_age = 0\n",
    "\n",
    "name = [] #creates an empty table (list) named name\n",
    "age = [] #creates an empty table (list) named age\n",
    "salary = [] #creates an empty table (list) named salary\n",
    "\n",
    "with open(\"example.csv\") as csvfiles:\n",
    "    file = csv.reader(csvfiles)\n",
    "    for record in file:\n",
    "        #appends the name to the name array (table)\n",
    "        name.append(record[0])\n",
    "        #appends the name to the age array (table)\n",
    "        age.append(int(record[1]))\n",
    "        #appends the name to the salary array (table)\n",
    "        salary.append(int(record[2]))\n",
    "        num_records = num_records + 1\n",
    "        \n",
    "#remember that the range is from 0 to 1 less than num_records\n",
    "for index in range(0, num_records):\n",
    "    #adding the salary to total salary. Index is the position in the table\n",
    "    total_salary = total_salary + salary[index]\n",
    "    \n",
    "print(\"Total salary is $\" + str(total_salary))\n",
    "\n",
    "for index in range(0, num_records):\n",
    "    sum_age = sum_age + age[index]\n",
    "    \n",
    "average_age = sum_age / num_records\n",
    "\n",
    "print(\"The average age is \" + str(average_age))"
   ]
  },
  {
   "cell_type": "code",
   "execution_count": null,
   "id": "823aeb43",
   "metadata": {},
   "outputs": [],
   "source": []
  }
 ],
 "metadata": {
  "kernelspec": {
   "display_name": "Python 3 (ipykernel)",
   "language": "python",
   "name": "python3"
  },
  "language_info": {
   "codemirror_mode": {
    "name": "ipython",
    "version": 3
   },
   "file_extension": ".py",
   "mimetype": "text/x-python",
   "name": "python",
   "nbconvert_exporter": "python",
   "pygments_lexer": "ipython3",
   "version": "3.11.3"
  }
 },
 "nbformat": 4,
 "nbformat_minor": 5
}
