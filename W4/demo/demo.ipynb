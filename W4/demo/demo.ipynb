{
 "cells": [
  {
   "cell_type": "code",
   "execution_count": null,
   "id": "48b7faf0",
   "metadata": {},
   "outputs": [],
   "source": [
    "import csv\n",
    "\n",
    "cont = True\n",
    "\n",
    "while cont == True:\n",
    "    eName = input(\"Employee name: \")\n",
    "    eTitle = input(\"Title: \")\n",
    "    eMonthHired = input(\"Month Hired: \")\n",
    "    \n",
    "    with open (\"employee_file.csv\", mode='a', newline='') as employee_file:\n",
    "        \n",
    "        employee_writer= csv.writer(employee_file, delimiter=',', quotechar='\"', quoting=csv.QUOTE_MINIMAL)\n",
    "        \n",
    "        employee_writer.writerow([eName , eTitle , eMonthHired])\n",
    "        \n",
    "        choice = input(\"Do you want to continue?(Y/N): \")\n",
    "        if choice.capitalize() == \"N\"and \"n\":\n",
    "            cont == False\n",
    "        \n"
   ]
  },
  {
   "cell_type": "code",
   "execution_count": null,
   "id": "5b685cd1",
   "metadata": {},
   "outputs": [],
   "source": []
  },
  {
   "cell_type": "code",
   "execution_count": null,
   "id": "27463db6",
   "metadata": {},
   "outputs": [],
   "source": []
  },
  {
   "cell_type": "code",
   "execution_count": null,
   "id": "ad120792",
   "metadata": {},
   "outputs": [],
   "source": []
  }
 ],
 "metadata": {
  "kernelspec": {
   "display_name": "Python 3 (ipykernel)",
   "language": "python",
   "name": "python3"
  },
  "language_info": {
   "codemirror_mode": {
    "name": "ipython",
    "version": 3
   },
   "file_extension": ".py",
   "mimetype": "text/x-python",
   "name": "python",
   "nbconvert_exporter": "python",
   "pygments_lexer": "ipython3",
   "version": "3.11.3"
  }
 },
 "nbformat": 4,
 "nbformat_minor": 5
}
