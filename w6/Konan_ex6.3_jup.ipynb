{
 "cells": [
  {
   "cell_type": "code",
   "execution_count": 3,
   "id": "b7445813",
   "metadata": {},
   "outputs": [
    {
     "name": "stdout",
     "output_type": "stream",
     "text": [
      "['Brittany', 'Bill', 'Belle', 'Austin', 'Anna', 'Andre', 'Andra', 'Amalia', 'Allene', 'Adelaida', 'Adam', 'Aaron']\n",
      "['23', '22', '22', '21', '21', '20', '20', '19', '19', '18', '18', '17']\n",
      "['978-493-8797', '916-796-0453', '864-391-5677', '801-908-9835', '731-358-0276', '620-643-8991', '509-999-9017', '502-474-2240', '425-793-4038', '319-622-2854', '317-905-0803', '231-315-6747']\n"
     ]
    }
   ],
   "source": [
    "import csv\n",
    "\n",
    "nameList = []\n",
    "ageList = []\n",
    "phoneList = []\n",
    "ndx = 0\n",
    "\n",
    "def bubbleSort(nlist):\n",
    "    for passnum in range(1,len(nlist)):\n",
    "        for i in range(0,len(nlist)-passnum):\n",
    "            if nlist[i]<nlist[i+1]:\n",
    "                temp = nlist[i]\n",
    "                nlist[i] = nlist[i+1]\n",
    "                nlist[i+1] = temp\n",
    "                \n",
    "\n",
    "with open (\"data.txt\") as csvfile:\n",
    "    file = csv.reader(csvfile)\n",
    "    for record in file:\n",
    "        nameList.append(record[0])\n",
    "        ageList.append(record[1])\n",
    "        phoneList.append(record[2])\n",
    "        ndx = ndx + 1\n",
    "        \n",
    "\n",
    "bubbleSort(nameList)\n",
    "print(nameList)\n",
    "\n",
    "bubbleSort(ageList)\n",
    "print(ageList)\n",
    "\n",
    "bubbleSort(phoneList)\n",
    "print(phoneList)"
   ]
  },
  {
   "cell_type": "code",
   "execution_count": null,
   "id": "014cdf10",
   "metadata": {},
   "outputs": [],
   "source": []
  }
 ],
 "metadata": {
  "kernelspec": {
   "display_name": "Python 3 (ipykernel)",
   "language": "python",
   "name": "python3"
  },
  "language_info": {
   "codemirror_mode": {
    "name": "ipython",
    "version": 3
   },
   "file_extension": ".py",
   "mimetype": "text/x-python",
   "name": "python",
   "nbconvert_exporter": "python",
   "pygments_lexer": "ipython3",
   "version": "3.11.3"
  }
 },
 "nbformat": 4,
 "nbformat_minor": 5
}
