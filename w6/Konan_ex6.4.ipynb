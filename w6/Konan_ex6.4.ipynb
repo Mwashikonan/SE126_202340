{
 "cells": [
  {
   "cell_type": "code",
   "execution_count": 3,
   "id": "4b381131",
   "metadata": {},
   "outputs": [
    {
     "name": "stdout",
     "output_type": "stream",
     "text": [
      "['Larry Bird', 'Michael Jorden', 'Julius Irving', 'Abdul Jabar', 'Gerry West']\n",
      "['Abdul Jabar', 'Gerry West', 'Julius Irving', 'Larry Bird', 'Michael Jorden']\n",
      "Bird,Larry\n",
      "Irving,Julius\n",
      "Jabar,Abdul\n",
      "Jorden,Michael\n",
      "West,Gerry\n"
     ]
    }
   ],
   "source": [
    "def bubbleSort(alist):\n",
    "    for passnum in range(1,len(alist)):\n",
    "        for i in range(0,len(alist)-passnum):\n",
    "            if alist[i] > alist[i+1]:\n",
    "                temp = alist[i]\n",
    "                alist[i] = alist[i+1]\n",
    "                alist[i+1] = temp\n",
    "                \n",
    "playerList = [\"Larry Bird\", \"Michael Jorden\", \"Julius Irving\", \"Abdul Jabar\", \"Gerry West\"]\n",
    "print(playerList)\n",
    "\n",
    "bubbleSort(playerList)\n",
    "print(playerList)\n",
    "\n",
    "#Q: How to sort by Last name?\n",
    "#A: Load data into two list.\n",
    "\n",
    "fnList = [\"Larry\", \"Michael\", \"Julius\", \"Abdul\", \"Gerry\"]\n",
    "lnList = [\"Bird\", \"Jorden\", \"Irving\", \"Jabar\", \"West\"]\n",
    "\n",
    "def bubbleSort2(alist, anotherlist):\n",
    "    for passnum in range(1,len(alist)):\n",
    "        for i in range(0,len(alist)-passnum):\n",
    "            if alist[i] > alist[i+1]:\n",
    "                temp = alist[i]\n",
    "                alist[i] = alist[i+1]\n",
    "                alist[i+1] = temp\n",
    "                \n",
    "                temp = anotherlist[i]\n",
    "                anotherlist[i] = anotherlist[i+1]\n",
    "                anotherlist[i+1] = temp\n",
    "                \n",
    "bubbleSort2(lnList, fnList)\n",
    "\n",
    "i = 0\n",
    "\n",
    "for row in lnList:\n",
    "    print(lnList[i] + \",\" + fnList[i])\n",
    "    \n",
    "    i = i + 1\n",
    "    "
   ]
  },
  {
   "cell_type": "code",
   "execution_count": null,
   "id": "05589152",
   "metadata": {},
   "outputs": [],
   "source": []
  }
 ],
 "metadata": {
  "kernelspec": {
   "display_name": "Python 3 (ipykernel)",
   "language": "python",
   "name": "python3"
  },
  "language_info": {
   "codemirror_mode": {
    "name": "ipython",
    "version": 3
   },
   "file_extension": ".py",
   "mimetype": "text/x-python",
   "name": "python",
   "nbconvert_exporter": "python",
   "pygments_lexer": "ipython3",
   "version": "3.11.3"
  }
 },
 "nbformat": 4,
 "nbformat_minor": 5
}
